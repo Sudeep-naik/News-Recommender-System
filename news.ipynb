{
 "cells": [
  {
   "cell_type": "markdown",
   "id": "7a37f718-5585-4e2f-801b-b82ca6115c64",
   "metadata": {},
   "source": []
  },
  {
   "cell_type": "code",
   "execution_count": 1,
   "id": "f44d2b38-66ae-4b90-a745-4a55698db430",
   "metadata": {},
   "outputs": [],
   "source": [
    "# pip install matplotlib\n",
    "# pip install seaborn"
   ]
  },
  {
   "cell_type": "code",
   "execution_count": 2,
   "id": "26691513-d49d-44f2-a11c-ed4f34829b15",
   "metadata": {},
   "outputs": [],
   "source": [
    "import pandas as pd\n",
    "import numpy as np\n",
    "import json"
   ]
  },
  {
   "cell_type": "code",
   "execution_count": 3,
   "id": "5532c4f3-44b5-4a1a-adf3-7d5dc212366c",
   "metadata": {},
   "outputs": [],
   "source": [
    "data = [json.loads(line) for line in open('News_Category_Dataset_v3.json', 'r')]"
   ]
  },
  {
   "cell_type": "code",
   "execution_count": 4,
   "id": "bdaa038b-f72d-4f2f-abfd-4551c93ed0ce",
   "metadata": {},
   "outputs": [],
   "source": [
    "news = pd.json_normalize(data)"
   ]
  },
  {
   "cell_type": "code",
   "execution_count": 5,
   "id": "d553376e-fb08-472b-83fa-59e6a5740d7e",
   "metadata": {},
   "outputs": [
    {
     "data": {
      "text/html": [
       "<div>\n",
       "<style scoped>\n",
       "    .dataframe tbody tr th:only-of-type {\n",
       "        vertical-align: middle;\n",
       "    }\n",
       "\n",
       "    .dataframe tbody tr th {\n",
       "        vertical-align: top;\n",
       "    }\n",
       "\n",
       "    .dataframe thead th {\n",
       "        text-align: right;\n",
       "    }\n",
       "</style>\n",
       "<table border=\"1\" class=\"dataframe\">\n",
       "  <thead>\n",
       "    <tr style=\"text-align: right;\">\n",
       "      <th></th>\n",
       "      <th>link</th>\n",
       "      <th>headline</th>\n",
       "      <th>category</th>\n",
       "      <th>short_description</th>\n",
       "      <th>authors</th>\n",
       "      <th>date</th>\n",
       "    </tr>\n",
       "  </thead>\n",
       "  <tbody>\n",
       "    <tr>\n",
       "      <th>0</th>\n",
       "      <td>https://www.huffpost.com/entry/covid-boosters-...</td>\n",
       "      <td>Over 4 Million Americans Roll Up Sleeves For O...</td>\n",
       "      <td>U.S. NEWS</td>\n",
       "      <td>Health experts said it is too early to predict...</td>\n",
       "      <td>Carla K. Johnson, AP</td>\n",
       "      <td>2022-09-23</td>\n",
       "    </tr>\n",
       "  </tbody>\n",
       "</table>\n",
       "</div>"
      ],
      "text/plain": [
       "                                                link   \n",
       "0  https://www.huffpost.com/entry/covid-boosters-...  \\\n",
       "\n",
       "                                            headline   category   \n",
       "0  Over 4 Million Americans Roll Up Sleeves For O...  U.S. NEWS  \\\n",
       "\n",
       "                                   short_description               authors   \n",
       "0  Health experts said it is too early to predict...  Carla K. Johnson, AP  \\\n",
       "\n",
       "         date  \n",
       "0  2022-09-23  "
      ]
     },
     "execution_count": 5,
     "metadata": {},
     "output_type": "execute_result"
    }
   ],
   "source": [
    "news.head(1)"
   ]
  },
  {
   "cell_type": "code",
   "execution_count": 6,
   "id": "4b7820d4-b40c-470e-b86f-76f57717e65e",
   "metadata": {},
   "outputs": [
    {
     "data": {
      "text/plain": [
       "'Health experts said it is too early to predict whether demand would match up with the 171 million doses of the new boosters the U.S. ordered for the fall.'"
      ]
     },
     "execution_count": 6,
     "metadata": {},
     "output_type": "execute_result"
    }
   ],
   "source": [
    "news.iloc[0].short_description"
   ]
  },
  {
   "cell_type": "code",
   "execution_count": 7,
   "id": "6ffd2db3-ff5f-46d1-8b1e-1e482da609e3",
   "metadata": {},
   "outputs": [
    {
     "data": {
      "text/plain": [
       "'Carla K. Johnson, AP'"
      ]
     },
     "execution_count": 7,
     "metadata": {},
     "output_type": "execute_result"
    }
   ],
   "source": [
    "news.iloc[0].authors"
   ]
  },
  {
   "cell_type": "code",
   "execution_count": 8,
   "id": "d310ab29-b833-4fb7-b332-a2c90dae0b5d",
   "metadata": {},
   "outputs": [
    {
     "data": {
      "text/plain": [
       "'Over 4 Million Americans Roll Up Sleeves For Omicron-Targeted COVID Boosters'"
      ]
     },
     "execution_count": 8,
     "metadata": {},
     "output_type": "execute_result"
    }
   ],
   "source": [
    "news.iloc[0].headline"
   ]
  },
  {
   "cell_type": "code",
   "execution_count": 9,
   "id": "ed192e47-8d7a-4f96-96f9-e50b903000e2",
   "metadata": {},
   "outputs": [
    {
     "data": {
      "text/plain": [
       "'U.S. NEWS'"
      ]
     },
     "execution_count": 9,
     "metadata": {},
     "output_type": "execute_result"
    }
   ],
   "source": [
    "news.iloc[0].category"
   ]
  },
  {
   "cell_type": "code",
   "execution_count": 10,
   "id": "1207ff99-977d-4bc0-aca0-67e8b8a4baf1",
   "metadata": {},
   "outputs": [
    {
     "data": {
      "text/plain": [
       "link                 0\n",
       "headline             0\n",
       "category             0\n",
       "short_description    0\n",
       "authors              0\n",
       "date                 0\n",
       "dtype: int64"
      ]
     },
     "execution_count": 10,
     "metadata": {},
     "output_type": "execute_result"
    }
   ],
   "source": [
    "news.isnull().sum()"
   ]
  },
  {
   "cell_type": "code",
   "execution_count": 11,
   "id": "a688059e-be15-497b-bd72-9bcf2ed867ca",
   "metadata": {},
   "outputs": [
    {
     "data": {
      "text/html": [
       "<div>\n",
       "<style scoped>\n",
       "    .dataframe tbody tr th:only-of-type {\n",
       "        vertical-align: middle;\n",
       "    }\n",
       "\n",
       "    .dataframe tbody tr th {\n",
       "        vertical-align: top;\n",
       "    }\n",
       "\n",
       "    .dataframe thead th {\n",
       "        text-align: right;\n",
       "    }\n",
       "</style>\n",
       "<table border=\"1\" class=\"dataframe\">\n",
       "  <thead>\n",
       "    <tr style=\"text-align: right;\">\n",
       "      <th></th>\n",
       "      <th>link</th>\n",
       "      <th>headline</th>\n",
       "      <th>category</th>\n",
       "      <th>short_description</th>\n",
       "      <th>authors</th>\n",
       "      <th>date</th>\n",
       "    </tr>\n",
       "  </thead>\n",
       "  <tbody>\n",
       "    <tr>\n",
       "      <th>0</th>\n",
       "      <td>https://www.huffpost.com/entry/covid-boosters-...</td>\n",
       "      <td>Over 4 Million Americans Roll Up Sleeves For O...</td>\n",
       "      <td>U.S. NEWS</td>\n",
       "      <td>Health experts said it is too early to predict...</td>\n",
       "      <td>Carla K. Johnson, AP</td>\n",
       "      <td>2022-09-23</td>\n",
       "    </tr>\n",
       "  </tbody>\n",
       "</table>\n",
       "</div>"
      ],
      "text/plain": [
       "                                                link   \n",
       "0  https://www.huffpost.com/entry/covid-boosters-...  \\\n",
       "\n",
       "                                            headline   category   \n",
       "0  Over 4 Million Americans Roll Up Sleeves For O...  U.S. NEWS  \\\n",
       "\n",
       "                                   short_description               authors   \n",
       "0  Health experts said it is too early to predict...  Carla K. Johnson, AP  \\\n",
       "\n",
       "         date  \n",
       "0  2022-09-23  "
      ]
     },
     "execution_count": 11,
     "metadata": {},
     "output_type": "execute_result"
    }
   ],
   "source": [
    "news.head(1)"
   ]
  },
  {
   "cell_type": "code",
   "execution_count": 12,
   "id": "fe13bfe3-dcb6-43e1-a09d-89f2d3f6dd79",
   "metadata": {},
   "outputs": [],
   "source": [
    "news = news[0:6000]"
   ]
  },
  {
   "cell_type": "code",
   "execution_count": 13,
   "id": "e33c75a5-a302-4077-b3da-6fb777baa0ff",
   "metadata": {},
   "outputs": [
    {
     "data": {
      "text/plain": [
       "<Axes: xlabel='count', ylabel='category'>"
      ]
     },
     "execution_count": 13,
     "metadata": {},
     "output_type": "execute_result"
    },
    {
     "data": {
      "image/png": "[encoded data removed]",
      "text/plain": [
       "<Figure size 1000x1000 with 1 Axes>"
      ]
     },
     "metadata": {},
     "output_type": "display_data"
    }
   ],
   "source": [
    "import matplotlib.pyplot as plt\n",
    "import seaborn as sns \n",
    "%matplotlib inline\n",
    "%matplotlib inline\n",
    "pd.set_option('display.max_columns', None)\n",
    "from matplotlib import *\n",
    "import sys\n",
    "from pylab import *\n",
    "import warnings\n",
    "warnings.filterwarnings('ignore')\n",
    "plt.figure(figsize=(10,10))\n",
    "sns.countplot(y = news['category'])"
   ]
  },
  {
   "cell_type": "code",
   "execution_count": 14,
   "id": "aa4817cf-9321-4287-9b03-430b7006cde8",
   "metadata": {},
   "outputs": [
    {
     "data": {
      "text/plain": [
       "(6000, 6)"
      ]
     },
     "execution_count": 14,
     "metadata": {},
     "output_type": "execute_result"
    }
   ],
   "source": [
    "news.shape"
   ]
  },
  {
   "cell_type": "code",
   "execution_count": 15,
   "id": "660c1eeb-0331-4295-9470-662589a9daaf",
   "metadata": {},
   "outputs": [
    {
     "data": {
      "text/plain": [
       "(6000, 6)"
      ]
     },
     "execution_count": 15,
     "metadata": {},
     "output_type": "execute_result"
    }
   ],
   "source": [
    "news.shape"
   ]
  },
  {
   "cell_type": "code",
   "execution_count": 16,
   "id": "614e3b67-bed4-409e-a189-7eaf46a8e682",
   "metadata": {},
   "outputs": [
    {
     "data": {
      "text/html": [
       "<div>\n",
       "<style scoped>\n",
       "    .dataframe tbody tr th:only-of-type {\n",
       "        vertical-align: middle;\n",
       "    }\n",
       "\n",
       "    .dataframe tbody tr th {\n",
       "        vertical-align: top;\n",
       "    }\n",
       "\n",
       "    .dataframe thead th {\n",
       "        text-align: right;\n",
       "    }\n",
       "</style>\n",
       "<table border=\"1\" class=\"dataframe\">\n",
       "  <thead>\n",
       "    <tr style=\"text-align: right;\">\n",
       "      <th></th>\n",
       "      <th>link</th>\n",
       "      <th>headline</th>\n",
       "      <th>category</th>\n",
       "      <th>short_description</th>\n",
       "      <th>authors</th>\n",
       "      <th>date</th>\n",
       "    </tr>\n",
       "  </thead>\n",
       "  <tbody>\n",
       "    <tr>\n",
       "      <th>0</th>\n",
       "      <td>https://www.huffpost.com/entry/covid-boosters-...</td>\n",
       "      <td>Over 4 Million Americans Roll Up Sleeves For O...</td>\n",
       "      <td>U.S. NEWS</td>\n",
       "      <td>Health experts said it is too early to predict...</td>\n",
       "      <td>Carla K. Johnson, AP</td>\n",
       "      <td>2022-09-23</td>\n",
       "    </tr>\n",
       "    <tr>\n",
       "      <th>1</th>\n",
       "      <td>https://www.huffpost.com/entry/american-airlin...</td>\n",
       "      <td>American Airlines Flyer Charged, Banned For Li...</td>\n",
       "      <td>U.S. NEWS</td>\n",
       "      <td>He was subdued by passengers and crew when he ...</td>\n",
       "      <td>Mary Papenfuss</td>\n",
       "      <td>2022-09-23</td>\n",
       "    </tr>\n",
       "    <tr>\n",
       "      <th>2</th>\n",
       "      <td>https://www.huffpost.com/entry/funniest-tweets...</td>\n",
       "      <td>23 Of The Funniest Tweets About Cats And Dogs ...</td>\n",
       "      <td>COMEDY</td>\n",
       "      <td>\"Until you have a dog you don't understand wha...</td>\n",
       "      <td>Elyse Wanshel</td>\n",
       "      <td>2022-09-23</td>\n",
       "    </tr>\n",
       "    <tr>\n",
       "      <th>3</th>\n",
       "      <td>https://www.huffpost.com/entry/funniest-parent...</td>\n",
       "      <td>The Funniest Tweets From Parents This Week (Se...</td>\n",
       "      <td>PARENTING</td>\n",
       "      <td>\"Accidentally put grown-up toothpaste on my to...</td>\n",
       "      <td>Caroline Bologna</td>\n",
       "      <td>2022-09-23</td>\n",
       "    </tr>\n",
       "    <tr>\n",
       "      <th>4</th>\n",
       "      <td>https://www.huffpost.com/entry/amy-cooper-lose...</td>\n",
       "      <td>Woman Who Called Cops On Black Bird-Watcher Lo...</td>\n",
       "      <td>U.S. NEWS</td>\n",
       "      <td>Amy Cooper accused investment firm Franklin Te...</td>\n",
       "      <td>Nina Golgowski</td>\n",
       "      <td>2022-09-22</td>\n",
       "    </tr>\n",
       "    <tr>\n",
       "      <th>...</th>\n",
       "      <td>...</td>\n",
       "      <td>...</td>\n",
       "      <td>...</td>\n",
       "      <td>...</td>\n",
       "      <td>...</td>\n",
       "      <td>...</td>\n",
       "    </tr>\n",
       "    <tr>\n",
       "      <th>5995</th>\n",
       "      <td>https://www.huffpost.com/entry/seth-meyers-rud...</td>\n",
       "      <td>Seth Meyers Runs Bonkers Recap Of Rudy Giulian...</td>\n",
       "      <td>COMEDY</td>\n",
       "      <td>The \"Late Night\" host aired \"some of Rudy's gr...</td>\n",
       "      <td>Lee Moran</td>\n",
       "      <td>2019-10-11</td>\n",
       "    </tr>\n",
       "    <tr>\n",
       "      <th>5996</th>\n",
       "      <td>https://www.huffpost.com/entry/lou-dobbs-guest...</td>\n",
       "      <td>'Lou Dobbs' Guest Says Whistleblower Should Be...</td>\n",
       "      <td>MEDIA</td>\n",
       "      <td>GOP strategist Ed Rollins ripped the whistlebl...</td>\n",
       "      <td>Ron Dicker</td>\n",
       "      <td>2019-10-11</td>\n",
       "    </tr>\n",
       "    <tr>\n",
       "      <th>5997</th>\n",
       "      <td>https://www.huffpost.com/entry/cuba-gooding-jr...</td>\n",
       "      <td>Cuba Gooding Jr. Groping Trial Delayed After I...</td>\n",
       "      <td>CRIME</td>\n",
       "      <td>A sealed indictment alleges a “previously unch...</td>\n",
       "      <td>David Moye</td>\n",
       "      <td>2019-10-10</td>\n",
       "    </tr>\n",
       "    <tr>\n",
       "      <th>5998</th>\n",
       "      <td>https://www.huffpost.com/entry/washington-post...</td>\n",
       "      <td>Washington Post Editorial Board Warns Of 'New ...</td>\n",
       "      <td>MEDIA</td>\n",
       "      <td>\"It's tempting to ignore Trump’s unhinged lett...</td>\n",
       "      <td>Lee Moran</td>\n",
       "      <td>2019-10-10</td>\n",
       "    </tr>\n",
       "    <tr>\n",
       "      <th>5999</th>\n",
       "      <td>https://www.huffpost.com/entry/prince-harry-ed...</td>\n",
       "      <td>Prince Harry And Ed Sheeran's Spoof Video Is R...</td>\n",
       "      <td>ENTERTAINMENT</td>\n",
       "      <td>It's a comical case of misunderstanding in the...</td>\n",
       "      <td>Lee Moran</td>\n",
       "      <td>2019-10-10</td>\n",
       "    </tr>\n",
       "  </tbody>\n",
       "</table>\n",
       "<p>6000 rows × 6 columns</p>\n",
       "</div>"
      ],
      "text/plain": [
       "                                                   link   \n",
       "0     https://www.huffpost.com/entry/covid-boosters-...  \\\n",
       "1     https://www.huffpost.com/entry/american-airlin...   \n",
       "2     https://www.huffpost.com/entry/funniest-tweets...   \n",
       "3     https://www.huffpost.com/entry/funniest-parent...   \n",
       "4     https://www.huffpost.com/entry/amy-cooper-lose...   \n",
       "...                                                 ...   \n",
       "5995  https://www.huffpost.com/entry/seth-meyers-rud...   \n",
       "5996  https://www.huffpost.com/entry/lou-dobbs-guest...   \n",
       "5997  https://www.huffpost.com/entry/cuba-gooding-jr...   \n",
       "5998  https://www.huffpost.com/entry/washington-post...   \n",
       "5999  https://www.huffpost.com/entry/prince-harry-ed...   \n",
       "\n",
       "                                               headline       category   \n",
       "0     Over 4 Million Americans Roll Up Sleeves For O...      U.S. NEWS  \\\n",
       "1     American Airlines Flyer Charged, Banned For Li...      U.S. NEWS   \n",
       "2     23 Of The Funniest Tweets About Cats And Dogs ...         COMEDY   \n",
       "3     The Funniest Tweets From Parents This Week (Se...      PARENTING   \n",
       "4     Woman Who Called Cops On Black Bird-Watcher Lo...      U.S. NEWS   \n",
       "...                                                 ...            ...   \n",
       "5995  Seth Meyers Runs Bonkers Recap Of Rudy Giulian...         COMEDY   \n",
       "5996  'Lou Dobbs' Guest Says Whistleblower Should Be...          MEDIA   \n",
       "5997  Cuba Gooding Jr. Groping Trial Delayed After I...          CRIME   \n",
       "5998  Washington Post Editorial Board Warns Of 'New ...          MEDIA   \n",
       "5999  Prince Harry And Ed Sheeran's Spoof Video Is R...  ENTERTAINMENT   \n",
       "\n",
       "                                      short_description               authors   \n",
       "0     Health experts said it is too early to predict...  Carla K. Johnson, AP  \\\n",
       "1     He was subdued by passengers and crew when he ...        Mary Papenfuss   \n",
       "2     \"Until you have a dog you don't understand wha...         Elyse Wanshel   \n",
       "3     \"Accidentally put grown-up toothpaste on my to...      Caroline Bologna   \n",
       "4     Amy Cooper accused investment firm Franklin Te...        Nina Golgowski   \n",
       "...                                                 ...                   ...   \n",
       "5995  The \"Late Night\" host aired \"some of Rudy's gr...             Lee Moran   \n",
       "5996  GOP strategist Ed Rollins ripped the whistlebl...            Ron Dicker   \n",
       "5997  A sealed indictment alleges a “previously unch...            David Moye   \n",
       "5998  \"It's tempting to ignore Trump’s unhinged lett...             Lee Moran   \n",
       "5999  It's a comical case of misunderstanding in the...             Lee Moran   \n",
       "\n",
       "            date  \n",
       "0     2022-09-23  \n",
       "1     2022-09-23  \n",
       "2     2022-09-23  \n",
       "3     2022-09-23  \n",
       "4     2022-09-22  \n",
       "...          ...  \n",
       "5995  2019-10-11  \n",
       "5996  2019-10-11  \n",
       "5997  2019-10-10  \n",
       "5998  2019-10-10  \n",
       "5999  2019-10-10  \n",
       "\n",
       "[6000 rows x 6 columns]"
      ]
     },
     "execution_count": 16,
     "metadata": {},
     "output_type": "execute_result"
    }
   ],
   "source": [
    "news.dropna()"
   ]
  },
  {
   "cell_type": "code",
   "execution_count": 17,
   "id": "ee775def-c157-4ccd-8479-9b43fbbf0270",
   "metadata": {},
   "outputs": [
    {
     "data": {
      "text/plain": [
       "(6000, 6)"
      ]
     },
     "execution_count": 17,
     "metadata": {},
     "output_type": "execute_result"
    }
   ],
   "source": [
    "news.shape"
   ]
  },
  {
   "cell_type": "code",
   "execution_count": 18,
   "id": "08ddbeef-7136-492e-bbf3-6eeb41318f61",
   "metadata": {},
   "outputs": [
    {
     "data": {
      "text/plain": [
       "'Carla K. Johnson, AP'"
      ]
     },
     "execution_count": 18,
     "metadata": {},
     "output_type": "execute_result"
    }
   ],
   "source": [
    "news.iloc[0].authors"
   ]
  },
  {
   "cell_type": "code",
   "execution_count": 19,
   "id": "35ece5c1-c855-4ea5-9bb8-52f7a0818d5b",
   "metadata": {},
   "outputs": [
    {
     "data": {
      "text/html": [
       "<div>\n",
       "<style scoped>\n",
       "    .dataframe tbody tr th:only-of-type {\n",
       "        vertical-align: middle;\n",
       "    }\n",
       "\n",
       "    .dataframe tbody tr th {\n",
       "        vertical-align: top;\n",
       "    }\n",
       "\n",
       "    .dataframe thead th {\n",
       "        text-align: right;\n",
       "    }\n",
       "</style>\n",
       "<table border=\"1\" class=\"dataframe\">\n",
       "  <thead>\n",
       "    <tr style=\"text-align: right;\">\n",
       "      <th></th>\n",
       "      <th>link</th>\n",
       "      <th>headline</th>\n",
       "      <th>category</th>\n",
       "      <th>short_description</th>\n",
       "      <th>authors</th>\n",
       "      <th>date</th>\n",
       "    </tr>\n",
       "  </thead>\n",
       "  <tbody>\n",
       "    <tr>\n",
       "      <th>0</th>\n",
       "      <td>https://www.huffpost.com/entry/covid-boosters-...</td>\n",
       "      <td>Over 4 Million Americans Roll Up Sleeves For O...</td>\n",
       "      <td>U.S. NEWS</td>\n",
       "      <td>Health experts said it is too early to predict...</td>\n",
       "      <td>Carla K. Johnson, AP</td>\n",
       "      <td>2022-09-23</td>\n",
       "    </tr>\n",
       "  </tbody>\n",
       "</table>\n",
       "</div>"
      ],
      "text/plain": [
       "                                                link   \n",
       "0  https://www.huffpost.com/entry/covid-boosters-...  \\\n",
       "\n",
       "                                            headline   category   \n",
       "0  Over 4 Million Americans Roll Up Sleeves For O...  U.S. NEWS  \\\n",
       "\n",
       "                                   short_description               authors   \n",
       "0  Health experts said it is too early to predict...  Carla K. Johnson, AP  \\\n",
       "\n",
       "         date  \n",
       "0  2022-09-23  "
      ]
     },
     "execution_count": 19,
     "metadata": {},
     "output_type": "execute_result"
    }
   ],
   "source": [
    "news.head(1)"
   ]
  },
  {
   "cell_type": "code",
   "execution_count": 20,
   "id": "1df6065a-3726-494d-9041-fa7fe2aaf5fd",
   "metadata": {},
   "outputs": [],
   "source": [
    "def combine_author(authore_list):\n",
    "    return ''.join(authore_list).replace(' ', '')\n",
    "news['authors'] = news['authors'].apply(combine_author)"
   ]
  },
  {
   "cell_type": "code",
   "execution_count": 21,
   "id": "3006ef63-652a-4c09-a03a-306dc24adaf4",
   "metadata": {},
   "outputs": [
    {
     "data": {
      "text/plain": [
       "'CarlaK.Johnson,AP'"
      ]
     },
     "execution_count": 21,
     "metadata": {},
     "output_type": "execute_result"
    }
   ],
   "source": [
    "news.iloc[0].authors"
   ]
  },
  {
   "cell_type": "code",
   "execution_count": 22,
   "id": "674a69e5-67ac-4e4c-85cf-c74bb9bda643",
   "metadata": {},
   "outputs": [],
   "source": [
    "news[\"tags\"]=news[\"category\"]+\" \"+news[\"headline\"]+\" \"+news[\"short_description\"]+\" \"+news[\"authors\"]"
   ]
  },
  {
   "cell_type": "code",
   "execution_count": 23,
   "id": "0c1facb5-27b3-4a0c-bebf-8f22ce689885",
   "metadata": {},
   "outputs": [
    {
     "data": {
      "text/html": [
       "<div>\n",
       "<style scoped>\n",
       "    .dataframe tbody tr th:only-of-type {\n",
       "        vertical-align: middle;\n",
       "    }\n",
       "\n",
       "    .dataframe tbody tr th {\n",
       "        vertical-align: top;\n",
       "    }\n",
       "\n",
       "    .dataframe thead th {\n",
       "        text-align: right;\n",
       "    }\n",
       "</style>\n",
       "<table border=\"1\" class=\"dataframe\">\n",
       "  <thead>\n",
       "    <tr style=\"text-align: right;\">\n",
       "      <th></th>\n",
       "      <th>link</th>\n",
       "      <th>headline</th>\n",
       "      <th>category</th>\n",
       "      <th>short_description</th>\n",
       "      <th>authors</th>\n",
       "      <th>date</th>\n",
       "      <th>tags</th>\n",
       "    </tr>\n",
       "  </thead>\n",
       "  <tbody>\n",
       "    <tr>\n",
       "      <th>0</th>\n",
       "      <td>https://www.huffpost.com/entry/covid-boosters-...</td>\n",
       "      <td>Over 4 Million Americans Roll Up Sleeves For O...</td>\n",
       "      <td>U.S. NEWS</td>\n",
       "      <td>Health experts said it is too early to predict...</td>\n",
       "      <td>CarlaK.Johnson,AP</td>\n",
       "      <td>2022-09-23</td>\n",
       "      <td>U.S. NEWS Over 4 Million Americans Roll Up Sle...</td>\n",
       "    </tr>\n",
       "    <tr>\n",
       "      <th>1</th>\n",
       "      <td>https://www.huffpost.com/entry/american-airlin...</td>\n",
       "      <td>American Airlines Flyer Charged, Banned For Li...</td>\n",
       "      <td>U.S. NEWS</td>\n",
       "      <td>He was subdued by passengers and crew when he ...</td>\n",
       "      <td>MaryPapenfuss</td>\n",
       "      <td>2022-09-23</td>\n",
       "      <td>U.S. NEWS American Airlines Flyer Charged, Ban...</td>\n",
       "    </tr>\n",
       "    <tr>\n",
       "      <th>2</th>\n",
       "      <td>https://www.huffpost.com/entry/funniest-tweets...</td>\n",
       "      <td>23 Of The Funniest Tweets About Cats And Dogs ...</td>\n",
       "      <td>COMEDY</td>\n",
       "      <td>\"Until you have a dog you don't understand wha...</td>\n",
       "      <td>ElyseWanshel</td>\n",
       "      <td>2022-09-23</td>\n",
       "      <td>COMEDY 23 Of The Funniest Tweets About Cats An...</td>\n",
       "    </tr>\n",
       "    <tr>\n",
       "      <th>3</th>\n",
       "      <td>https://www.huffpost.com/entry/funniest-parent...</td>\n",
       "      <td>The Funniest Tweets From Parents This Week (Se...</td>\n",
       "      <td>PARENTING</td>\n",
       "      <td>\"Accidentally put grown-up toothpaste on my to...</td>\n",
       "      <td>CarolineBologna</td>\n",
       "      <td>2022-09-23</td>\n",
       "      <td>PARENTING The Funniest Tweets From Parents Thi...</td>\n",
       "    </tr>\n",
       "    <tr>\n",
       "      <th>4</th>\n",
       "      <td>https://www.huffpost.com/entry/amy-cooper-lose...</td>\n",
       "      <td>Woman Who Called Cops On Black Bird-Watcher Lo...</td>\n",
       "      <td>U.S. NEWS</td>\n",
       "      <td>Amy Cooper accused investment firm Franklin Te...</td>\n",
       "      <td>NinaGolgowski</td>\n",
       "      <td>2022-09-22</td>\n",
       "      <td>U.S. NEWS Woman Who Called Cops On Black Bird-...</td>\n",
       "    </tr>\n",
       "  </tbody>\n",
       "</table>\n",
       "</div>"
      ],
      "text/plain": [
       "                                                link   \n",
       "0  https://www.huffpost.com/entry/covid-boosters-...  \\\n",
       "1  https://www.huffpost.com/entry/american-airlin...   \n",
       "2  https://www.huffpost.com/entry/funniest-tweets...   \n",
       "3  https://www.huffpost.com/entry/funniest-parent...   \n",
       "4  https://www.huffpost.com/entry/amy-cooper-lose...   \n",
       "\n",
       "                                            headline   category   \n",
       "0  Over 4 Million Americans Roll Up Sleeves For O...  U.S. NEWS  \\\n",
       "1  American Airlines Flyer Charged, Banned For Li...  U.S. NEWS   \n",
       "2  23 Of The Funniest Tweets About Cats And Dogs ...     COMEDY   \n",
       "3  The Funniest Tweets From Parents This Week (Se...  PARENTING   \n",
       "4  Woman Who Called Cops On Black Bird-Watcher Lo...  U.S. NEWS   \n",
       "\n",
       "                                   short_description            authors   \n",
       "0  Health experts said it is too early to predict...  CarlaK.Johnson,AP  \\\n",
       "1  He was subdued by passengers and crew when he ...      MaryPapenfuss   \n",
       "2  \"Until you have a dog you don't understand wha...       ElyseWanshel   \n",
       "3  \"Accidentally put grown-up toothpaste on my to...    CarolineBologna   \n",
       "4  Amy Cooper accused investment firm Franklin Te...      NinaGolgowski   \n",
       "\n",
       "         date                                               tags  \n",
       "0  2022-09-23  U.S. NEWS Over 4 Million Americans Roll Up Sle...  \n",
       "1  2022-09-23  U.S. NEWS American Airlines Flyer Charged, Ban...  \n",
       "2  2022-09-23  COMEDY 23 Of The Funniest Tweets About Cats An...  \n",
       "3  2022-09-23  PARENTING The Funniest Tweets From Parents Thi...  \n",
       "4  2022-09-22  U.S. NEWS Woman Who Called Cops On Black Bird-...  "
      ]
     },
     "execution_count": 23,
     "metadata": {},
     "output_type": "execute_result"
    }
   ],
   "source": [
    "news.head()"
   ]
  },
  {
   "cell_type": "code",
   "execution_count": 24,
   "id": "aaad934b-ff3c-48d2-ad26-222e4d951cad",
   "metadata": {},
   "outputs": [],
   "source": [
    "new_news=news[[\"link\",\"headline\",\"category\",\"short_description\",\"tags\"]]"
   ]
  },
  {
   "cell_type": "code",
   "execution_count": 25,
   "id": "aa45851a-3def-4036-9dd5-666684be6a95",
   "metadata": {},
   "outputs": [
    {
     "data": {
      "text/plain": [
       "'U.S. NEWS Over 4 Million Americans Roll Up Sleeves For Omicron-Targeted COVID Boosters Health experts said it is too early to predict whether demand would match up with the 171 million doses of the new boosters the U.S. ordered for the fall. CarlaK.Johnson,AP'"
      ]
     },
     "execution_count": 25,
     "metadata": {},
     "output_type": "execute_result"
    }
   ],
   "source": [
    "news.iloc[0].tags"
   ]
  },
  {
   "cell_type": "code",
   "execution_count": 26,
   "id": "cc37abe6-aa8c-4d61-afa7-42ba0adc4949",
   "metadata": {},
   "outputs": [
    {
     "data": {
      "text/html": [
       "<div>\n",
       "<style scoped>\n",
       "    .dataframe tbody tr th:only-of-type {\n",
       "        vertical-align: middle;\n",
       "    }\n",
       "\n",
       "    .dataframe tbody tr th {\n",
       "        vertical-align: top;\n",
       "    }\n",
       "\n",
       "    .dataframe thead th {\n",
       "        text-align: right;\n",
       "    }\n",
       "</style>\n",
       "<table border=\"1\" class=\"dataframe\">\n",
       "  <thead>\n",
       "    <tr style=\"text-align: right;\">\n",
       "      <th></th>\n",
       "      <th>link</th>\n",
       "      <th>headline</th>\n",
       "      <th>category</th>\n",
       "      <th>short_description</th>\n",
       "      <th>tags</th>\n",
       "    </tr>\n",
       "  </thead>\n",
       "  <tbody>\n",
       "    <tr>\n",
       "      <th>0</th>\n",
       "      <td>https://www.huffpost.com/entry/covid-boosters-...</td>\n",
       "      <td>Over 4 Million Americans Roll Up Sleeves For O...</td>\n",
       "      <td>U.S. NEWS</td>\n",
       "      <td>Health experts said it is too early to predict...</td>\n",
       "      <td>U.S. NEWS Over 4 Million Americans Roll Up Sle...</td>\n",
       "    </tr>\n",
       "  </tbody>\n",
       "</table>\n",
       "</div>"
      ],
      "text/plain": [
       "                                                link   \n",
       "0  https://www.huffpost.com/entry/covid-boosters-...  \\\n",
       "\n",
       "                                            headline   category   \n",
       "0  Over 4 Million Americans Roll Up Sleeves For O...  U.S. NEWS  \\\n",
       "\n",
       "                                   short_description   \n",
       "0  Health experts said it is too early to predict...  \\\n",
       "\n",
       "                                                tags  \n",
       "0  U.S. NEWS Over 4 Million Americans Roll Up Sle...  "
      ]
     },
     "execution_count": 26,
     "metadata": {},
     "output_type": "execute_result"
    }
   ],
   "source": [
    "new_news.head(1)"
   ]
  },
  {
   "cell_type": "code",
   "execution_count": 27,
   "id": "3a0e9e60-a312-4216-97b6-834a20f88ba4",
   "metadata": {},
   "outputs": [],
   "source": [
    "new_news[\"tags\"]=new_news[\"tags\"].apply(lambda x:x.lower())"
   ]
  },
  {
   "cell_type": "code",
   "execution_count": 28,
   "id": "7606b3b6-830f-420b-891e-9f3ba343ffea",
   "metadata": {},
   "outputs": [],
   "source": [
    "import nltk\n",
    "from nltk.stem.porter import PorterStemmer\n",
    "\n",
    "ps = PorterStemmer()  \n",
    "def stem(text):\n",
    "    y = []\n",
    "    for i in text.split():\n",
    "        y.append(ps.stem(i))\n",
    "    return \" \".join(y)\n",
    "\n",
    "new_news[\"tags\"] = new_news[\"tags\"].apply(stem)"
   ]
  },
  {
   "cell_type": "code",
   "execution_count": 29,
   "id": "4be56738-ee7c-46ef-ab4f-1912fb62352d",
   "metadata": {},
   "outputs": [
    {
     "data": {
      "text/html": [
       "<div>\n",
       "<style scoped>\n",
       "    .dataframe tbody tr th:only-of-type {\n",
       "        vertical-align: middle;\n",
       "    }\n",
       "\n",
       "    .dataframe tbody tr th {\n",
       "        vertical-align: top;\n",
       "    }\n",
       "\n",
       "    .dataframe thead th {\n",
       "        text-align: right;\n",
       "    }\n",
       "</style>\n",
       "<table border=\"1\" class=\"dataframe\">\n",
       "  <thead>\n",
       "    <tr style=\"text-align: right;\">\n",
       "      <th></th>\n",
       "      <th>link</th>\n",
       "      <th>headline</th>\n",
       "      <th>category</th>\n",
       "      <th>short_description</th>\n",
       "      <th>tags</th>\n",
       "    </tr>\n",
       "  </thead>\n",
       "  <tbody>\n",
       "    <tr>\n",
       "      <th>0</th>\n",
       "      <td>https://www.huffpost.com/entry/covid-boosters-...</td>\n",
       "      <td>Over 4 Million Americans Roll Up Sleeves For O...</td>\n",
       "      <td>U.S. NEWS</td>\n",
       "      <td>Health experts said it is too early to predict...</td>\n",
       "      <td>u.s. news over 4 million american roll up slee...</td>\n",
       "    </tr>\n",
       "    <tr>\n",
       "      <th>1</th>\n",
       "      <td>https://www.huffpost.com/entry/american-airlin...</td>\n",
       "      <td>American Airlines Flyer Charged, Banned For Li...</td>\n",
       "      <td>U.S. NEWS</td>\n",
       "      <td>He was subdued by passengers and crew when he ...</td>\n",
       "      <td>u.s. news american airlin flyer charged, ban f...</td>\n",
       "    </tr>\n",
       "    <tr>\n",
       "      <th>2</th>\n",
       "      <td>https://www.huffpost.com/entry/funniest-tweets...</td>\n",
       "      <td>23 Of The Funniest Tweets About Cats And Dogs ...</td>\n",
       "      <td>COMEDY</td>\n",
       "      <td>\"Until you have a dog you don't understand wha...</td>\n",
       "      <td>comedi 23 of the funniest tweet about cat and ...</td>\n",
       "    </tr>\n",
       "    <tr>\n",
       "      <th>3</th>\n",
       "      <td>https://www.huffpost.com/entry/funniest-parent...</td>\n",
       "      <td>The Funniest Tweets From Parents This Week (Se...</td>\n",
       "      <td>PARENTING</td>\n",
       "      <td>\"Accidentally put grown-up toothpaste on my to...</td>\n",
       "      <td>parent the funniest tweet from parent thi week...</td>\n",
       "    </tr>\n",
       "    <tr>\n",
       "      <th>4</th>\n",
       "      <td>https://www.huffpost.com/entry/amy-cooper-lose...</td>\n",
       "      <td>Woman Who Called Cops On Black Bird-Watcher Lo...</td>\n",
       "      <td>U.S. NEWS</td>\n",
       "      <td>Amy Cooper accused investment firm Franklin Te...</td>\n",
       "      <td>u.s. news woman who call cop on black bird-wat...</td>\n",
       "    </tr>\n",
       "  </tbody>\n",
       "</table>\n",
       "</div>"
      ],
      "text/plain": [
       "                                                link   \n",
       "0  https://www.huffpost.com/entry/covid-boosters-...  \\\n",
       "1  https://www.huffpost.com/entry/american-airlin...   \n",
       "2  https://www.huffpost.com/entry/funniest-tweets...   \n",
       "3  https://www.huffpost.com/entry/funniest-parent...   \n",
       "4  https://www.huffpost.com/entry/amy-cooper-lose...   \n",
       "\n",
       "                                            headline   category   \n",
       "0  Over 4 Million Americans Roll Up Sleeves For O...  U.S. NEWS  \\\n",
       "1  American Airlines Flyer Charged, Banned For Li...  U.S. NEWS   \n",
       "2  23 Of The Funniest Tweets About Cats And Dogs ...     COMEDY   \n",
       "3  The Funniest Tweets From Parents This Week (Se...  PARENTING   \n",
       "4  Woman Who Called Cops On Black Bird-Watcher Lo...  U.S. NEWS   \n",
       "\n",
       "                                   short_description   \n",
       "0  Health experts said it is too early to predict...  \\\n",
       "1  He was subdued by passengers and crew when he ...   \n",
       "2  \"Until you have a dog you don't understand wha...   \n",
       "3  \"Accidentally put grown-up toothpaste on my to...   \n",
       "4  Amy Cooper accused investment firm Franklin Te...   \n",
       "\n",
       "                                                tags  \n",
       "0  u.s. news over 4 million american roll up slee...  \n",
       "1  u.s. news american airlin flyer charged, ban f...  \n",
       "2  comedi 23 of the funniest tweet about cat and ...  \n",
       "3  parent the funniest tweet from parent thi week...  \n",
       "4  u.s. news woman who call cop on black bird-wat...  "
      ]
     },
     "execution_count": 29,
     "metadata": {},
     "output_type": "execute_result"
    }
   ],
   "source": [
    "new_news.head()"
   ]
  },
  {
   "cell_type": "code",
   "execution_count": 30,
   "id": "a57d6dc3-e252-48d9-91c8-e34327187282",
   "metadata": {},
   "outputs": [],
   "source": [
    "from sklearn.feature_extraction.text import CountVectorizer\n",
    "cv=CountVectorizer(max_features=5000,stop_words=\"english\")"
   ]
  },
  {
   "cell_type": "code",
   "execution_count": 31,
   "id": "0ce80bac-0f9b-4413-8947-5e6dcac28f97",
   "metadata": {},
   "outputs": [],
   "source": [
    "vector=cv.fit_transform(new_news[\"tags\"]).toarray()"
   ]
  },
  {
   "cell_type": "code",
   "execution_count": 32,
   "id": "b7734cdd-9327-4484-a50f-7087d54e1d41",
   "metadata": {},
   "outputs": [
    {
     "data": {
      "text/plain": [
       "array([[0, 0, 0, ..., 0, 0, 0],\n",
       "       [0, 0, 0, ..., 0, 0, 0],\n",
       "       [0, 0, 0, ..., 0, 0, 0],\n",
       "       ...,\n",
       "       [0, 0, 0, ..., 0, 0, 0],\n",
       "       [0, 0, 0, ..., 0, 0, 0],\n",
       "       [0, 0, 0, ..., 0, 0, 0]], dtype=int64)"
      ]
     },
     "execution_count": 32,
     "metadata": {},
     "output_type": "execute_result"
    }
   ],
   "source": [
    "vector"
   ]
  },
  {
   "cell_type": "code",
   "execution_count": 33,
   "id": "c2095246-4689-431c-8251-8908cd1d2b7a",
   "metadata": {},
   "outputs": [],
   "source": [
    "from sklearn.metrics.pairwise import cosine_similarity"
   ]
  },
  {
   "cell_type": "code",
   "execution_count": 34,
   "id": "6c0d28cf-0685-41bc-b9b6-f5354649a9ad",
   "metadata": {},
   "outputs": [],
   "source": [
    "similarity=cosine_similarity(vector)"
   ]
  },
  {
   "cell_type": "code",
   "execution_count": 35,
   "id": "a0e4895b-eea4-4e9c-8ec7-a3b2d7f2ce17",
   "metadata": {},
   "outputs": [
    {
     "data": {
      "text/plain": [
       "array([[1.        , 0.0860663 , 0.        , ..., 0.08025724, 0.04536092,\n",
       "        0.04303315],\n",
       "       [0.0860663 , 1.        , 0.        , ..., 0.04662524, 0.        ,\n",
       "        0.05      ],\n",
       "       [0.        , 0.        , 1.        , ..., 0.        , 0.05407381,\n",
       "        0.        ],\n",
       "       ...,\n",
       "       [0.08025724, 0.04662524, 0.        , ..., 1.        , 0.04914732,\n",
       "        0.        ],\n",
       "       [0.04536092, 0.        , 0.05407381, ..., 0.04914732, 1.        ,\n",
       "        0.05270463],\n",
       "       [0.04303315, 0.05      , 0.        , ..., 0.        , 0.05270463,\n",
       "        1.        ]])"
      ]
     },
     "execution_count": 35,
     "metadata": {},
     "output_type": "execute_result"
    }
   ],
   "source": [
    "similarity"
   ]
  },
  {
   "cell_type": "code",
   "execution_count": 36,
   "id": "f86dc495-764f-43dd-a6ed-2bb051bb14da",
   "metadata": {},
   "outputs": [],
   "source": [
    "def recommand(cat):\n",
    "    new_index=new_news[new_news[\"category\"]==cat].index[0]\n",
    "    distances=similarity[new_index]\n",
    "    news_list=sorted(list(enumerate(distances)),reverse=True,key=lambda x:x[1])[1:8]\n",
    "    cnt=1\n",
    "    for i in news_list:\n",
    "        print(cnt)\n",
    "        print(\"Headlines :- \")\n",
    "        print(new_news.iloc[i[0]].headline)\n",
    "        print(\"Description :- \")\n",
    "        print(new_news.iloc[i[0]].short_description)\n",
    "        print(new_news.iloc[i[0]].link)\n",
    "        cnt+=1\n",
    "        print(\"-------------------------------------------------------------------------------------------------------\")"
   ]
  },
  {
   "cell_type": "code",
   "execution_count": 37,
   "id": "10b1ae2f-5ec4-4c96-b722-f3f648ab5a9b",
   "metadata": {},
   "outputs": [
    {
     "name": "stdout",
     "output_type": "stream",
     "text": [
      "1\n",
      "Headlines :- \n",
      "Rafael Nadal Wins Australian Open For Record 21st Major Title\n",
      "Description :- \n",
      "The 35-year-old Spaniard now has one more major title than Roger Federer and Novak Djokovic, his long-time rivals in the so-called Big Three.\n",
      "https://www.huffpost.com/entry/rafael-nadal-wins-australian-open-tennis_n_61f6aacae4b0061af2603fbd\n",
      "-------------------------------------------------------------------------------------------------------\n",
      "2\n",
      "Headlines :- \n",
      "Chitetsu Watanabe, World's Oldest Man, Dies At 112\n",
      "Description :- \n",
      "The Japanese man credited smiling to his longevity.\n",
      "https://www.huffpost.com/entry/chitetsu-watanabe-worlds-oldest-man-dies_n_5e54ebf0c5b65e0f11c63cab\n",
      "-------------------------------------------------------------------------------------------------------\n",
      "3\n",
      "Headlines :- \n",
      "Tampa Bay Rays Headed To World Series\n",
      "Description :- \n",
      "The Rays silenced the Houston Astros 4-2 in Game 7 of the ALCS to reach the World Series for just the second time.\n",
      "https://www.huffpost.com/entry/tampa-bay-rays-head-to-world-series_n_5f8c2825c5b69daf5e141cb2\n",
      "-------------------------------------------------------------------------------------------------------\n",
      "4\n",
      "Headlines :- \n",
      "LeBron James Dishes On His Dream To One Day Play In The NBA With His Son\n",
      "Description :- \n",
      "Bronny has already made a name for himself in the basketball world.\n",
      "https://www.huffpost.com/entry/lebron-james-son-bronny-nba-hope_n_61d4743ee4b0c7d8b8a892be\n",
      "-------------------------------------------------------------------------------------------------------\n",
      "5\n",
      "Headlines :- \n",
      "LeBron James Reflected On Kobe Bryant's Legacy The Night Before His Death\n",
      "Description :- \n",
      "The former Los Angeles Laker, his daughter and seven other people died Sunday in a helicopter crash in Calabasas, California.\n",
      "https://www.huffpost.com/entry/lebron-james-kobe-bryant-legacy-night-before-death_n_5e2df495c5b6d6767fd6823c\n",
      "-------------------------------------------------------------------------------------------------------\n",
      "6\n",
      "Headlines :- \n",
      "Russian Airstrike Hits Base In Western Ukraine, Kills 35\n",
      "Description :- \n",
      "The attacked training base near Yavoriv is less than 15 miles from the Polish border and appears to be the westernmost target struck during Russia’s 18-day invasion.\n",
      "https://www.huffpost.com/entry/russian-airstrike-hits-base-western-ukraine_n_622dd1e3e4b0fe0944d714e7\n",
      "-------------------------------------------------------------------------------------------------------\n",
      "7\n",
      "Headlines :- \n",
      "MLB Places Trevor Bauer On Leave Following Sexual Assault Allegations\n",
      "Description :- \n",
      "A woman has accused the Los Angeles Dodgers pitcher of assaulting her. The LAPD is investigating the allegations.\n",
      "https://www.huffpost.com/entry/trevor-bauer-leave-sexual-assault-allegations_n_60df5216e4b068186f4f4b8e\n",
      "-------------------------------------------------------------------------------------------------------\n"
     ]
    }
   ],
   "source": [
    "recommand(\"SPORTS\")"
   ]
  },
  {
   "cell_type": "code",
   "execution_count": null,
   "id": "0f2af911-05ce-4182-9584-33bee59aaca0",
   "metadata": {},
   "outputs": [],
   "source": []
  },
  {
   "cell_type": "code",
   "execution_count": null,
   "id": "d8d514a0-b3d1-4044-9948-0a99a70a7be8",
   "metadata": {},
   "outputs": [],
   "source": []
  },
  {
   "cell_type": "code",
   "execution_count": null,
   "id": "ae5520e8-0178-4414-a44d-168113d95dba",
   "metadata": {},
   "outputs": [],
   "source": []
  }
 ],
 "metadata": {
  "kernelspec": {
   "display_name": "Python 3 (ipykernel)",
   "language": "python",
   "name": "python3"
  },
  "language_info": {
   "codemirror_mode": {
    "name": "ipython",
    "version": 3
   },
   "file_extension": ".py",
   "mimetype": "text/x-python",
   "name": "python",
   "nbconvert_exporter": "python",
   "pygments_lexer": "ipython3",
   "version": "3.11.5"
  }
 },
 "nbformat": 4,
 "nbformat_minor": 5
}
